{
 "cells": [
  {
   "cell_type": "code",
   "execution_count": 8,
   "id": "fed5a75d-4fed-47a1-911d-68ea13d14b86",
   "metadata": {},
   "outputs": [],
   "source": [
    "# Question 1:\n",
    "\"\"\"Create a vehicle class with an init method having instance variables as name_of_vehicle, max_speed\n",
    "and average_of_vehicle.\"\"\"\n",
    "#Answer:\n",
    "\n",
    "class vehicle:\n",
    "    def __init__(self, name_of_vehicle, max_speed, average_of_vehicle):\n",
    "        self.name_of_vehicle = name_of_vehicle\n",
    "        self.max_speed = max_speed\n",
    "        self.average_of_vehicle = average_of_vehicle\n",
    "        \n",
    "    def return_details(self):\n",
    "        return self.name_of_vehicle, self.max_speed, self.average_of_vehicle\n"
   ]
  },
  {
   "cell_type": "code",
   "execution_count": 5,
   "id": "fb83bc83-ec84-42de-b6ec-22c5d840ce1a",
   "metadata": {},
   "outputs": [],
   "source": [
    "car = vehicle (\"Car\", 200, 40)"
   ]
  },
  {
   "cell_type": "code",
   "execution_count": 6,
   "id": "759aed5d-9fa0-4712-b980-385489d8af74",
   "metadata": {},
   "outputs": [
    {
     "data": {
      "text/plain": [
       "('Car', 200, 40)"
      ]
     },
     "execution_count": 6,
     "metadata": {},
     "output_type": "execute_result"
    }
   ],
   "source": [
    "car.return_details()"
   ]
  },
  {
   "cell_type": "code",
   "execution_count": null,
   "id": "233d8562-ac53-4fc1-b3d1-02cf207e50bb",
   "metadata": {},
   "outputs": [],
   "source": []
  },
  {
   "cell_type": "code",
   "execution_count": 9,
   "id": "b94fdfda-d47e-4b31-9e3f-17c3ab9c4057",
   "metadata": {},
   "outputs": [],
   "source": [
    "# Question 2:\n",
    "'''Create a child class car from the vehicle class created in Que 1, which will inherit the vehicle class.\n",
    "Create a method named seating_capacity which takes capacity as an argument and returns the name of\n",
    "the vehicle and its seating capacity.'''\n",
    "#Answer:\n",
    "\n",
    "class Vehicle:\n",
    "    def __init__(self, name_of_vehicle, max_speed, average_of_vehicle):\n",
    "        self.name_of_vehicle = name_of_vehicle\n",
    "        self.max_speed = max_speed\n",
    "        self.average_of_vehicle = average_of_vehicle\n",
    "\n",
    "class Car(Vehicle):\n",
    "    def __init__(self, name_of_vehicle, max_speed, average_of_vehicle):\n",
    "        super().__init__(name_of_vehicle, max_speed, average_of_vehicle)\n",
    "\n",
    "    def seating_capacity(self, capacity):\n",
    "        return f\"{self.name_of_vehicle} has a seating capacity of {capacity} people.\"\n",
    "    "
   ]
  },
  {
   "cell_type": "code",
   "execution_count": 10,
   "id": "eba5c7e2-326d-4d9f-9bc6-12d0c38c885a",
   "metadata": {},
   "outputs": [],
   "source": [
    "car = Car(\"Sedan\", 180, 4)"
   ]
  },
  {
   "cell_type": "code",
   "execution_count": 11,
   "id": "711a73b5-ee22-4a51-8ab4-c7408e45c182",
   "metadata": {},
   "outputs": [
    {
     "name": "stdout",
     "output_type": "stream",
     "text": [
      "Sedan has a seating capacity of 5 people.\n"
     ]
    }
   ],
   "source": [
    "print(car.seating_capacity(5))"
   ]
  },
  {
   "cell_type": "code",
   "execution_count": null,
   "id": "ecaad12c-6885-49ec-9140-850a4d2acd94",
   "metadata": {},
   "outputs": [],
   "source": []
  },
  {
   "cell_type": "code",
   "execution_count": 21,
   "id": "0e440b71-973d-4c56-8efc-99ccd726fc76",
   "metadata": {},
   "outputs": [],
   "source": [
    "# Question 3:\n",
    "\"\"\"What is multiple inheritance? Write a python code to demonstrate multiple inheritance.\"\"\"\n",
    "#Answer:\n",
    "class class1:\n",
    "    def test_class1(self):\n",
    "        return \"this is a class1\"\n",
    "\n",
    "class class2:\n",
    "    def test_class2(self):\n",
    "        return \"This is a class2\"\n",
    "\n",
    "class class3 (class1, class2):\n",
    "    pass"
   ]
  },
  {
   "cell_type": "code",
   "execution_count": 22,
   "id": "1f5ec035-d455-4ece-a4d2-d9fe9230c722",
   "metadata": {},
   "outputs": [],
   "source": [
    "obj_class= class3()"
   ]
  },
  {
   "cell_type": "code",
   "execution_count": 23,
   "id": "3503040d-f4f5-4be1-beb3-551bc9b7d1f3",
   "metadata": {},
   "outputs": [
    {
     "data": {
      "text/plain": [
       "'This is a class2'"
      ]
     },
     "execution_count": 23,
     "metadata": {},
     "output_type": "execute_result"
    }
   ],
   "source": [
    "obj_class.test_class2()"
   ]
  },
  {
   "cell_type": "code",
   "execution_count": 25,
   "id": "73be8bac-42b2-43d1-9f46-2b00e9307952",
   "metadata": {},
   "outputs": [
    {
     "data": {
      "text/plain": [
       "'this is a class1'"
      ]
     },
     "execution_count": 25,
     "metadata": {},
     "output_type": "execute_result"
    }
   ],
   "source": [
    "obj_class.test_class1()"
   ]
  },
  {
   "cell_type": "code",
   "execution_count": null,
   "id": "2e82a4d5-8560-4dee-a9f8-855949b19702",
   "metadata": {},
   "outputs": [],
   "source": []
  },
  {
   "cell_type": "code",
   "execution_count": 34,
   "id": "5dca0ecb-0c61-4127-8041-057cea4d2706",
   "metadata": {},
   "outputs": [
    {
     "name": "stdout",
     "output_type": "stream",
     "text": [
      "Initial Name: Alice\n",
      "Initial Age: 20\n",
      "Updated Name: Bob\n",
      "Updated Age: 22\n"
     ]
    }
   ],
   "source": [
    "# Question 4:\n",
    "\"\"\"What are getter and setter in python? Create a class and create a getter and a setter method in this\n",
    "class.\"\"\"\n",
    "# Answer:\n",
    "class Student:\n",
    "    def __init__(self, name, age):\n",
    "        self.__name = name \n",
    "        self.__age = age\n",
    "\n",
    "    def get_name(self):\n",
    "        return self.__name\n",
    "    def set_name(self, name):\n",
    "        if isinstance(name, str):\n",
    "            self.__name = name\n",
    "        else:\n",
    "            print(\"Name must be a string.\")\n",
    "    def get_age(self):\n",
    "        return self.__age\n",
    "    def set_age(self, age):\n",
    "        if isinstance(age, int) and age >= 0:\n",
    "            self.__age = age\n",
    "        else:\n",
    "            print(\"Age must be a non-negative integer.\")\n",
    "student = Student(\"Alice\", 20)\n",
    "\n",
    "print(\"Initial Name:\", student.get_name())\n",
    "print(\"Initial Age:\", student.get_age())\n",
    "\n",
    "student.set_name(\"Bob\")\n",
    "student.set_age(22)\n",
    "\n",
    "print(\"Updated Name:\", student.get_name())\n",
    "print(\"Updated Age:\", student.get_age())"
   ]
  },
  {
   "cell_type": "code",
   "execution_count": 37,
   "id": "6136ada3-d37a-4ab2-9583-45952ee071fd",
   "metadata": {},
   "outputs": [
    {
     "name": "stdout",
     "output_type": "stream",
     "text": [
      "Circle Area: 78.53975\n",
      "Rectangle Area: 24\n"
     ]
    }
   ],
   "source": [
    "# Question 5:\n",
    "'''What is method overriding in python? Write a python code to demonstrate method overriding.'''\n",
    "# ANSWER:\n",
    "\n",
    "class Shape:\n",
    "    def area(self):\n",
    "        pass\n",
    "\n",
    "class Circle(Shape):\n",
    "    def __init__(self, radius):\n",
    "        self.radius = radius\n",
    "    def area(self):\n",
    "        return 3.14159 * self.radius * self.radius\n",
    "\n",
    "class Rectangle(Shape):\n",
    "    def __init__(self, width, height):\n",
    "        self.width = width\n",
    "        self.height = height\n",
    "    def area(self):\n",
    "        return self.width * self.height\n",
    "circle = Circle(5)\n",
    "rectangle = Rectangle(4, 6)\n",
    "print(\"Circle Area:\", circle.area())\n",
    "print(\"Rectangle Area:\", rectangle.area())\n"
   ]
  },
  {
   "cell_type": "code",
   "execution_count": 38,
   "id": "214dcdb4-08f2-4d08-8504-97a31a2592b9",
   "metadata": {},
   "outputs": [],
   "source": [
    "# ANUJ KUMAR"
   ]
  }
 ],
 "metadata": {
  "kernelspec": {
   "display_name": "Python 3 (ipykernel)",
   "language": "python",
   "name": "python3"
  },
  "language_info": {
   "codemirror_mode": {
    "name": "ipython",
    "version": 3
   },
   "file_extension": ".py",
   "mimetype": "text/x-python",
   "name": "python",
   "nbconvert_exporter": "python",
   "pygments_lexer": "ipython3",
   "version": "3.10.8"
  }
 },
 "nbformat": 4,
 "nbformat_minor": 5
}
